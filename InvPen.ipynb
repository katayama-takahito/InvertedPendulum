{
 "cells": [
  {
   "cell_type": "markdown",
   "metadata": {},
   "source": [
    "# 車輪型の倒立振子の制御"
   ]
  },
  {
   "cell_type": "markdown",
   "metadata": {},
   "source": [
    "## ライブラリのインポート"
   ]
  },
  {
   "cell_type": "code",
   "execution_count": 1,
   "metadata": {},
   "outputs": [],
   "source": [
    "#シンボリック計算ライブラリsympyをインポート\n",
    "import sympy as sp\n",
    "#数値計算ライブラリnumpyをインポート\n",
    "import numpy as np\n",
    "\n",
    "\n",
    "#科学技術計算ライブラリscipyの特に機械力学のためのモジュールphysics.mechanicsをインポート\n",
    "from sympy.physics.mechanics import dynamicsymbols, LagrangesMethod, ReferenceFrame,Point, RigidBody, outer, Lagrangian\n",
    "#微分方程式を解くためのモジュールsolve_ivpをインポート\n",
    "from scipy.integrate import solve_ivp\n",
    "from scipy import linalg\n",
    "\n",
    "#描画ライブラリmatplotlibをインポート, およびアニメーションのためのモジュールをインポート\n",
    "import matplotlib.pyplot as plt\n",
    "import matplotlib.animation as animation"
   ]
  },
  {
   "cell_type": "markdown",
   "metadata": {},
   "source": [
    "## 車輪と振子のモデル化"
   ]
  },
  {
   "cell_type": "markdown",
   "metadata": {},
   "source": [
    "車輪と振子のパラメータを定義"
   ]
  },
  {
   "cell_type": "code",
   "execution_count": 2,
   "metadata": {},
   "outputs": [],
   "source": [
    "#幾何的なパラメータの定義\n",
    "a,l=sp.symbols('a l')\n",
    "# a is the radius of the wheel\n",
    "# l is the vertical distance between the wheel and pendulum\n",
    "# w is the horizontal distance between the wheel and pendulum\n",
    "\n",
    "#物理的なパラメータの定義\n",
    "m_p,m_w,I_p,I_w,g,mu_p,mu_w,g=sp.symbols('m_p m_w I_p I_w g mu_p mu_w g')\n",
    "# m_p is the mass of the pendulum\n",
    "# m_w is the mass of the wheel\n",
    "# I_p is the moment of inertia of the pendulum\n",
    "# I_w is the moment of inertia of the wheel\n",
    "# g is the acceleration due to gravity\n",
    "\n",
    "# 角度パラメータの定義\n",
    "theta,phi=dynamicsymbols('theta phi')\n",
    "thetadot,phidot=dynamicsymbols('theta phi',1)\n",
    "\n",
    "# 時間の定義\n",
    "t=sp.symbols('t')"
   ]
  },
  {
   "cell_type": "markdown",
   "metadata": {},
   "source": [
    "座標系の定義"
   ]
  },
  {
   "cell_type": "code",
   "execution_count": 3,
   "metadata": {},
   "outputs": [],
   "source": [
    "#絶対座標系Nを定義\n",
    "N=ReferenceFrame('N')\n",
    "O=Point('O')\n",
    "O.set_vel(N,0)\n",
    "\n",
    "#振子の座標系を定義\n",
    "N_p=N.orientnew('N_p','Axis',[theta,N.y])#thetaだけ回転\n",
    "N_p.set_ang_vel(N,thetadot*N.y)#角速度はthetadotだけ\n",
    "\n",
    "\n",
    "#車輪の座標系を作成\n",
    "N_w=N_p.orientnew('N_w','Axis',[phi,N_p.y])#N_pに対してphiだけ回転\n",
    "N_w.set_ang_vel(N_p,phidot*N_p.y)#角速度はphidotだけ"
   ]
  },
  {
   "cell_type": "markdown",
   "metadata": {},
   "source": [
    "重心と剛体の定義"
   ]
  },
  {
   "cell_type": "code",
   "execution_count": 4,
   "metadata": {},
   "outputs": [],
   "source": [
    "#振子の重心と剛体の定義\n",
    "C_p=Point('C_p')\n",
    "I_p_tensor=I_p*outer(N_p.y,N_p.y)#慣性テンソル\n",
    "P=RigidBody('P',C_p,N_p,m_p,(I_p_tensor,C_p))\n",
    "\n",
    "#車輪の重心と剛体の定義\n",
    "C_w=Point('C_w')\n",
    "I_w_tensor=I_w*outer(N_w.y,N_w.y)#慣性テンソル\n",
    "W=RigidBody('W',C_w,N_w,m_w,(I_w_tensor,C_w))"
   ]
  },
  {
   "cell_type": "markdown",
   "metadata": {},
   "source": [
    "重心位置の設定"
   ]
  },
  {
   "cell_type": "code",
   "execution_count": 5,
   "metadata": {},
   "outputs": [],
   "source": [
    "#重心位置の設定\n",
    "C_p.set_pos(C_w,l*(sp.sin(theta)*N.x+sp.cos(theta)*N.z))\n",
    "\n",
    "C_w.set_pos(O,a*((theta+phi)*N.x+N.z))"
   ]
  },
  {
   "cell_type": "markdown",
   "metadata": {},
   "source": [
    "速度の設定"
   ]
  },
  {
   "cell_type": "code",
   "execution_count": 6,
   "metadata": {},
   "outputs": [],
   "source": [
    "C_p.set_vel(N,C_p.pos_from(O).dt(N))\n",
    "C_w.set_vel(N,C_w.pos_from(O).dt(N))"
   ]
  },
  {
   "cell_type": "markdown",
   "metadata": {},
   "source": [
    "## 運動方程式の計算"
   ]
  },
  {
   "cell_type": "markdown",
   "metadata": {},
   "source": [
    "運動エネルギーの計算と表示"
   ]
  },
  {
   "cell_type": "code",
   "execution_count": 7,
   "metadata": {},
   "outputs": [
    {
     "name": "stdout",
     "output_type": "stream",
     "text": [
      "kinetic energy of the pendulum\n"
     ]
    },
    {
     "data": {
      "text/latex": [
       "$\\displaystyle \\frac{I_{p} \\left(\\frac{d}{d t} \\theta{\\left(t \\right)}\\right)^{2}}{2} + \\frac{m_{p} \\left(l^{2} \\sin^{2}{\\left(\\theta{\\left(t \\right)} \\right)} \\left(\\frac{d}{d t} \\theta{\\left(t \\right)}\\right)^{2} + \\left(a \\left(\\frac{d}{d t} \\phi{\\left(t \\right)} + \\frac{d}{d t} \\theta{\\left(t \\right)}\\right) + l \\cos{\\left(\\theta{\\left(t \\right)} \\right)} \\frac{d}{d t} \\theta{\\left(t \\right)}\\right)^{2}\\right)}{2}$"
      ],
      "text/plain": [
       "I_p*Derivative(theta(t), t)**2/2 + m_p*(l**2*sin(theta(t))**2*Derivative(theta(t), t)**2 + (a*(Derivative(phi(t), t) + Derivative(theta(t), t)) + l*cos(theta(t))*Derivative(theta(t), t))**2)/2"
      ]
     },
     "metadata": {},
     "output_type": "display_data"
    },
    {
     "name": "stdout",
     "output_type": "stream",
     "text": [
      "kinetic energy of the wheel\n"
     ]
    },
    {
     "data": {
      "text/latex": [
       "$\\displaystyle \\frac{I_{w} \\left(\\frac{d}{d t} \\phi{\\left(t \\right)} + \\frac{d}{d t} \\theta{\\left(t \\right)}\\right) \\frac{d}{d t} \\phi{\\left(t \\right)}}{2} + \\frac{I_{w} \\left(\\frac{d}{d t} \\phi{\\left(t \\right)} + \\frac{d}{d t} \\theta{\\left(t \\right)}\\right) \\frac{d}{d t} \\theta{\\left(t \\right)}}{2} + \\frac{a^{2} m_{w} \\left(\\frac{d}{d t} \\phi{\\left(t \\right)} + \\frac{d}{d t} \\theta{\\left(t \\right)}\\right)^{2}}{2}$"
      ],
      "text/plain": [
       "I_w*(Derivative(phi(t), t) + Derivative(theta(t), t))*Derivative(phi(t), t)/2 + I_w*(Derivative(phi(t), t) + Derivative(theta(t), t))*Derivative(theta(t), t)/2 + a**2*m_w*(Derivative(phi(t), t) + Derivative(theta(t), t))**2/2"
      ]
     },
     "metadata": {},
     "output_type": "display_data"
    }
   ],
   "source": [
    "print('kinetic energy of the pendulum')\n",
    "display(P.kinetic_energy(N))\n",
    "\n",
    "print('kinetic energy of the wheel')\n",
    "display(W.kinetic_energy(N))"
   ]
  },
  {
   "cell_type": "markdown",
   "metadata": {},
   "source": [
    "ポテンシャルエネルギーの計算と表示"
   ]
  },
  {
   "cell_type": "code",
   "execution_count": 8,
   "metadata": {},
   "outputs": [
    {
     "data": {
      "text/latex": [
       "$\\displaystyle g l m_{p} \\cos{\\left(\\theta{\\left(t \\right)} \\right)}$"
      ],
      "text/plain": [
       "g*l*m_p*cos(theta(t))"
      ]
     },
     "metadata": {},
     "output_type": "display_data"
    }
   ],
   "source": [
    "#振子のポテンシャルエネルギー\n",
    "P.potential_energy=m_p*g*(l*sp.cos(theta))\n",
    "display(P.potential_energy)"
   ]
  },
  {
   "cell_type": "markdown",
   "metadata": {},
   "source": [
    "ラグランジアンの計算"
   ]
  },
  {
   "cell_type": "code",
   "execution_count": 9,
   "metadata": {},
   "outputs": [
    {
     "data": {
      "text/latex": [
       "$\\displaystyle \\frac{I_{p} \\left(\\frac{d}{d t} \\theta{\\left(t \\right)}\\right)^{2}}{2} + \\frac{I_{w} \\left(\\frac{d}{d t} \\phi{\\left(t \\right)} + \\frac{d}{d t} \\theta{\\left(t \\right)}\\right) \\frac{d}{d t} \\phi{\\left(t \\right)}}{2} + \\frac{I_{w} \\left(\\frac{d}{d t} \\phi{\\left(t \\right)} + \\frac{d}{d t} \\theta{\\left(t \\right)}\\right) \\frac{d}{d t} \\theta{\\left(t \\right)}}{2} + \\frac{a^{2} m_{w} \\left(\\frac{d}{d t} \\phi{\\left(t \\right)} + \\frac{d}{d t} \\theta{\\left(t \\right)}\\right)^{2}}{2} - g l m_{p} \\cos{\\left(\\theta{\\left(t \\right)} \\right)} + \\frac{m_{p} \\left(l^{2} \\sin^{2}{\\left(\\theta{\\left(t \\right)} \\right)} \\left(\\frac{d}{d t} \\theta{\\left(t \\right)}\\right)^{2} + \\left(a \\left(\\frac{d}{d t} \\phi{\\left(t \\right)} + \\frac{d}{d t} \\theta{\\left(t \\right)}\\right) + l \\cos{\\left(\\theta{\\left(t \\right)} \\right)} \\frac{d}{d t} \\theta{\\left(t \\right)}\\right)^{2}\\right)}{2}$"
      ],
      "text/plain": [
       "I_p*Derivative(theta(t), t)**2/2 + I_w*(Derivative(phi(t), t) + Derivative(theta(t), t))*Derivative(phi(t), t)/2 + I_w*(Derivative(phi(t), t) + Derivative(theta(t), t))*Derivative(theta(t), t)/2 + a**2*m_w*(Derivative(phi(t), t) + Derivative(theta(t), t))**2/2 - g*l*m_p*cos(theta(t)) + m_p*(l**2*sin(theta(t))**2*Derivative(theta(t), t)**2 + (a*(Derivative(phi(t), t) + Derivative(theta(t), t)) + l*cos(theta(t))*Derivative(theta(t), t))**2)/2"
      ]
     },
     "metadata": {},
     "output_type": "display_data"
    }
   ],
   "source": [
    "#ラグランジアン\n",
    "L=Lagrangian(N,P,W)\n",
    "display(L)"
   ]
  },
  {
   "cell_type": "markdown",
   "metadata": {},
   "source": [
    "一般化座標の設定"
   ]
  },
  {
   "cell_type": "code",
   "execution_count": 10,
   "metadata": {},
   "outputs": [],
   "source": [
    "#一般化座標の設定\n",
    "q=sp.Matrix([theta,phi])"
   ]
  },
  {
   "cell_type": "markdown",
   "metadata": {},
   "source": [
    "一般化力の設定"
   ]
  },
  {
   "cell_type": "code",
   "execution_count": 11,
   "metadata": {},
   "outputs": [
    {
     "data": {
      "text/latex": [
       "$\\displaystyle - \\mu_{p} \\frac{d}{d t} \\phi{\\left(t \\right)} - \\mu_{w} \\left(\\frac{d}{d t} \\phi{\\left(t \\right)} + \\frac{d}{d t} \\theta{\\left(t \\right)}\\right)$"
      ],
      "text/plain": [
       "-mu_p*Derivative(phi(t), t) - mu_w*(Derivative(phi(t), t) + Derivative(theta(t), t))"
      ]
     },
     "metadata": {},
     "output_type": "display_data"
    },
    {
     "data": {
      "text/plain": [
       "[(N_p, - tau(t)*N_p.y),\n",
       " (N_w, tau(t)*N_w.y),\n",
       " (N_p, mu_p*Derivative(phi(t), t)*N_p.y),\n",
       " (N_w,\n",
       "  (-mu_p*Derivative(phi(t), t) - mu_w*(Derivative(phi(t), t) + Derivative(theta(t), t)))*N_w.y),\n",
       " (P_d, f_d(t)*N.x)]"
      ]
     },
     "metadata": {},
     "output_type": "display_data"
    }
   ],
   "source": [
    "#一般化力の設定\n",
    "#制御トルク\n",
    "tau=dynamicsymbols('tau')\n",
    "f_control=[(N_p,-tau*N_p.y),(N_w,tau*N_w.y)]\n",
    "\n",
    "#摩擦トルク\n",
    "tau_fp,tau_fw=sp.symbols('tau_fp tau_fw')\n",
    "tau_fp=mu_p*phidot\n",
    "tau_fw = -mu_p * phidot - mu_w * (thetadot + phidot)\n",
    "display(tau_fw)\n",
    "f_dissipation = [(N_p, tau_fp * N_p.y), (N_w, tau_fw * N_w.y)]\n",
    "\n",
    "#外乱が掛かる点\n",
    "P_d=Point('P_d')\n",
    "P_d.set_pos(C_p,l*N_p.z)\n",
    "P_d.set_vel(N,P_d.pos_from(O).dt(N))\n",
    "#外乱\n",
    "f_d=dynamicsymbols('f_d')\n",
    "f_disturbance=[(P_d,f_d*N.x)]\n",
    "\n",
    "f=dynamicsymbols('f')\n",
    "f=f_control+f_dissipation+f_disturbance\n",
    "display(f)"
   ]
  },
  {
   "cell_type": "markdown",
   "metadata": {},
   "source": [
    "運動方程式の計算"
   ]
  },
  {
   "cell_type": "code",
   "execution_count": 12,
   "metadata": {},
   "outputs": [
    {
     "data": {
      "text/latex": [
       "$\\displaystyle \\left[\\begin{matrix}I_{p} \\frac{d^{2}}{d t^{2}} \\theta{\\left(t \\right)} + \\frac{I_{w} \\left(\\frac{d^{2}}{d t^{2}} \\phi{\\left(t \\right)} + \\frac{d^{2}}{d t^{2}} \\theta{\\left(t \\right)}\\right)}{2} + \\frac{I_{w} \\frac{d^{2}}{d t^{2}} \\phi{\\left(t \\right)}}{2} + \\frac{I_{w} \\frac{d^{2}}{d t^{2}} \\theta{\\left(t \\right)}}{2} + \\frac{a^{2} m_{w} \\left(2 \\frac{d^{2}}{d t^{2}} \\phi{\\left(t \\right)} + 2 \\frac{d^{2}}{d t^{2}} \\theta{\\left(t \\right)}\\right)}{2} - g l m_{p} \\sin{\\left(\\theta{\\left(t \\right)} \\right)} - l f_{d}{\\left(t \\right)} \\cos{\\left(\\theta{\\left(t \\right)} \\right)} - \\frac{m_{p} \\left(2 l^{2} \\sin{\\left(\\theta{\\left(t \\right)} \\right)} \\cos{\\left(\\theta{\\left(t \\right)} \\right)} \\left(\\frac{d}{d t} \\theta{\\left(t \\right)}\\right)^{2} - 2 l \\left(a \\left(\\frac{d}{d t} \\phi{\\left(t \\right)} + \\frac{d}{d t} \\theta{\\left(t \\right)}\\right) + l \\cos{\\left(\\theta{\\left(t \\right)} \\right)} \\frac{d}{d t} \\theta{\\left(t \\right)}\\right) \\sin{\\left(\\theta{\\left(t \\right)} \\right)} \\frac{d}{d t} \\theta{\\left(t \\right)}\\right)}{2} + \\frac{m_{p} \\left(2 l^{2} \\sin^{2}{\\left(\\theta{\\left(t \\right)} \\right)} \\frac{d^{2}}{d t^{2}} \\theta{\\left(t \\right)} + 4 l^{2} \\sin{\\left(\\theta{\\left(t \\right)} \\right)} \\cos{\\left(\\theta{\\left(t \\right)} \\right)} \\left(\\frac{d}{d t} \\theta{\\left(t \\right)}\\right)^{2} - 2 l \\left(a \\left(\\frac{d}{d t} \\phi{\\left(t \\right)} + \\frac{d}{d t} \\theta{\\left(t \\right)}\\right) + l \\cos{\\left(\\theta{\\left(t \\right)} \\right)} \\frac{d}{d t} \\theta{\\left(t \\right)}\\right) \\sin{\\left(\\theta{\\left(t \\right)} \\right)} \\frac{d}{d t} \\theta{\\left(t \\right)} + \\left(2 a + 2 l \\cos{\\left(\\theta{\\left(t \\right)} \\right)}\\right) \\left(a \\left(\\frac{d^{2}}{d t^{2}} \\phi{\\left(t \\right)} + \\frac{d^{2}}{d t^{2}} \\theta{\\left(t \\right)}\\right) - l \\sin{\\left(\\theta{\\left(t \\right)} \\right)} \\left(\\frac{d}{d t} \\theta{\\left(t \\right)}\\right)^{2} + l \\cos{\\left(\\theta{\\left(t \\right)} \\right)} \\frac{d^{2}}{d t^{2}} \\theta{\\left(t \\right)}\\right)\\right)}{2} + \\mu_{w} \\left(\\frac{d}{d t} \\phi{\\left(t \\right)} + \\frac{d}{d t} \\theta{\\left(t \\right)}\\right) - \\left(a + l \\cos{\\left(\\theta{\\left(t \\right)} \\right)}\\right) f_{d}{\\left(t \\right)}\\\\\\frac{I_{w} \\left(\\frac{d^{2}}{d t^{2}} \\phi{\\left(t \\right)} + \\frac{d^{2}}{d t^{2}} \\theta{\\left(t \\right)}\\right)}{2} + \\frac{I_{w} \\frac{d^{2}}{d t^{2}} \\phi{\\left(t \\right)}}{2} + \\frac{I_{w} \\frac{d^{2}}{d t^{2}} \\theta{\\left(t \\right)}}{2} + \\frac{a^{2} m_{w} \\left(2 \\frac{d^{2}}{d t^{2}} \\phi{\\left(t \\right)} + 2 \\frac{d^{2}}{d t^{2}} \\theta{\\left(t \\right)}\\right)}{2} + a m_{p} \\left(a \\left(\\frac{d^{2}}{d t^{2}} \\phi{\\left(t \\right)} + \\frac{d^{2}}{d t^{2}} \\theta{\\left(t \\right)}\\right) - l \\sin{\\left(\\theta{\\left(t \\right)} \\right)} \\left(\\frac{d}{d t} \\theta{\\left(t \\right)}\\right)^{2} + l \\cos{\\left(\\theta{\\left(t \\right)} \\right)} \\frac{d^{2}}{d t^{2}} \\theta{\\left(t \\right)}\\right) - a f_{d}{\\left(t \\right)} + \\mu_{p} \\frac{d}{d t} \\phi{\\left(t \\right)} + \\mu_{w} \\left(\\frac{d}{d t} \\phi{\\left(t \\right)} + \\frac{d}{d t} \\theta{\\left(t \\right)}\\right) - \\tau{\\left(t \\right)}\\end{matrix}\\right]$"
      ],
      "text/plain": [
       "Matrix([\n",
       "[I_p*Derivative(theta(t), (t, 2)) + I_w*(Derivative(phi(t), (t, 2)) + Derivative(theta(t), (t, 2)))/2 + I_w*Derivative(phi(t), (t, 2))/2 + I_w*Derivative(theta(t), (t, 2))/2 + a**2*m_w*(2*Derivative(phi(t), (t, 2)) + 2*Derivative(theta(t), (t, 2)))/2 - g*l*m_p*sin(theta(t)) - l*f_d(t)*cos(theta(t)) - m_p*(2*l**2*sin(theta(t))*cos(theta(t))*Derivative(theta(t), t)**2 - 2*l*(a*(Derivative(phi(t), t) + Derivative(theta(t), t)) + l*cos(theta(t))*Derivative(theta(t), t))*sin(theta(t))*Derivative(theta(t), t))/2 + m_p*(2*l**2*sin(theta(t))**2*Derivative(theta(t), (t, 2)) + 4*l**2*sin(theta(t))*cos(theta(t))*Derivative(theta(t), t)**2 - 2*l*(a*(Derivative(phi(t), t) + Derivative(theta(t), t)) + l*cos(theta(t))*Derivative(theta(t), t))*sin(theta(t))*Derivative(theta(t), t) + (2*a + 2*l*cos(theta(t)))*(a*(Derivative(phi(t), (t, 2)) + Derivative(theta(t), (t, 2))) - l*sin(theta(t))*Derivative(theta(t), t)**2 + l*cos(theta(t))*Derivative(theta(t), (t, 2))))/2 + mu_w*(Derivative(phi(t), t) + Derivative(theta(t), t)) - (a + l*cos(theta(t)))*f_d(t)],\n",
       "[                                                                                                                                                                                                                                                                                                                                                                                                                                                                                                                                                                                     I_w*(Derivative(phi(t), (t, 2)) + Derivative(theta(t), (t, 2)))/2 + I_w*Derivative(phi(t), (t, 2))/2 + I_w*Derivative(theta(t), (t, 2))/2 + a**2*m_w*(2*Derivative(phi(t), (t, 2)) + 2*Derivative(theta(t), (t, 2)))/2 + a*m_p*(a*(Derivative(phi(t), (t, 2)) + Derivative(theta(t), (t, 2))) - l*sin(theta(t))*Derivative(theta(t), t)**2 + l*cos(theta(t))*Derivative(theta(t), (t, 2))) - a*f_d(t) + mu_p*Derivative(phi(t), t) + mu_w*(Derivative(phi(t), t) + Derivative(theta(t), t)) - tau(t)]])"
      ]
     },
     "metadata": {},
     "output_type": "display_data"
    }
   ],
   "source": [
    "LM=LagrangesMethod(L,q,forcelist=f,frame=N)\n",
    "eom=LM.form_lagranges_equations()\n",
    "display(eom)"
   ]
  },
  {
   "cell_type": "markdown",
   "metadata": {},
   "source": [
    "状態方程式の計算"
   ]
  },
  {
   "cell_type": "code",
   "execution_count": 13,
   "metadata": {},
   "outputs": [
    {
     "data": {
      "text/latex": [
       "$\\displaystyle \\left[\\begin{matrix}\\frac{d}{d t} \\theta{\\left(t \\right)}\\\\\\frac{d}{d t} \\phi{\\left(t \\right)}\\\\\\frac{g l m_{p} \\sin{\\left(\\theta{\\left(t \\right)} \\right)} + l f_{d}{\\left(t \\right)} \\cos{\\left(\\theta{\\left(t \\right)} \\right)} + \\frac{m_{p} \\left(2 l^{2} \\sin{\\left(\\theta{\\left(t \\right)} \\right)} \\cos{\\left(\\theta{\\left(t \\right)} \\right)} \\left(\\frac{d}{d t} \\theta{\\left(t \\right)}\\right)^{2} - 2 l \\left(a \\left(\\frac{d}{d t} \\phi{\\left(t \\right)} + \\frac{d}{d t} \\theta{\\left(t \\right)}\\right) + l \\cos{\\left(\\theta{\\left(t \\right)} \\right)} \\frac{d}{d t} \\theta{\\left(t \\right)}\\right) \\sin{\\left(\\theta{\\left(t \\right)} \\right)} \\frac{d}{d t} \\theta{\\left(t \\right)}\\right)}{2} - \\frac{m_{p} \\left(4 l^{2} \\sin{\\left(\\theta{\\left(t \\right)} \\right)} \\cos{\\left(\\theta{\\left(t \\right)} \\right)} \\left(\\frac{d}{d t} \\theta{\\left(t \\right)}\\right)^{2} - l \\left(2 a + 2 l \\cos{\\left(\\theta{\\left(t \\right)} \\right)}\\right) \\sin{\\left(\\theta{\\left(t \\right)} \\right)} \\left(\\frac{d}{d t} \\theta{\\left(t \\right)}\\right)^{2} - 2 l \\left(a \\left(\\frac{d}{d t} \\phi{\\left(t \\right)} + \\frac{d}{d t} \\theta{\\left(t \\right)}\\right) + l \\cos{\\left(\\theta{\\left(t \\right)} \\right)} \\frac{d}{d t} \\theta{\\left(t \\right)}\\right) \\sin{\\left(\\theta{\\left(t \\right)} \\right)} \\frac{d}{d t} \\theta{\\left(t \\right)}\\right)}{2} - \\mu_{w} \\left(\\frac{d}{d t} \\phi{\\left(t \\right)} + \\frac{d}{d t} \\theta{\\left(t \\right)}\\right) + \\left(a + l \\cos{\\left(\\theta{\\left(t \\right)} \\right)}\\right) f_{d}{\\left(t \\right)} - \\frac{\\left(I_{w} + a^{2} m_{w} + \\frac{a m_{p} \\left(2 a + 2 l \\cos{\\left(\\theta{\\left(t \\right)} \\right)}\\right)}{2}\\right) \\left(a l m_{p} \\sin{\\left(\\theta{\\left(t \\right)} \\right)} \\left(\\frac{d}{d t} \\theta{\\left(t \\right)}\\right)^{2} + a f_{d}{\\left(t \\right)} - \\mu_{p} \\frac{d}{d t} \\phi{\\left(t \\right)} - \\mu_{w} \\left(\\frac{d}{d t} \\phi{\\left(t \\right)} + \\frac{d}{d t} \\theta{\\left(t \\right)}\\right) - \\frac{\\left(I_{w} + a^{2} m_{w} + a m_{p} \\left(a + l \\cos{\\left(\\theta{\\left(t \\right)} \\right)}\\right)\\right) \\left(g l m_{p} \\sin{\\left(\\theta{\\left(t \\right)} \\right)} + l f_{d}{\\left(t \\right)} \\cos{\\left(\\theta{\\left(t \\right)} \\right)} + \\frac{m_{p} \\left(2 l^{2} \\sin{\\left(\\theta{\\left(t \\right)} \\right)} \\cos{\\left(\\theta{\\left(t \\right)} \\right)} \\left(\\frac{d}{d t} \\theta{\\left(t \\right)}\\right)^{2} - 2 l \\left(a \\left(\\frac{d}{d t} \\phi{\\left(t \\right)} + \\frac{d}{d t} \\theta{\\left(t \\right)}\\right) + l \\cos{\\left(\\theta{\\left(t \\right)} \\right)} \\frac{d}{d t} \\theta{\\left(t \\right)}\\right) \\sin{\\left(\\theta{\\left(t \\right)} \\right)} \\frac{d}{d t} \\theta{\\left(t \\right)}\\right)}{2} - \\frac{m_{p} \\left(4 l^{2} \\sin{\\left(\\theta{\\left(t \\right)} \\right)} \\cos{\\left(\\theta{\\left(t \\right)} \\right)} \\left(\\frac{d}{d t} \\theta{\\left(t \\right)}\\right)^{2} - l \\left(2 a + 2 l \\cos{\\left(\\theta{\\left(t \\right)} \\right)}\\right) \\sin{\\left(\\theta{\\left(t \\right)} \\right)} \\left(\\frac{d}{d t} \\theta{\\left(t \\right)}\\right)^{2} - 2 l \\left(a \\left(\\frac{d}{d t} \\phi{\\left(t \\right)} + \\frac{d}{d t} \\theta{\\left(t \\right)}\\right) + l \\cos{\\left(\\theta{\\left(t \\right)} \\right)} \\frac{d}{d t} \\theta{\\left(t \\right)}\\right) \\sin{\\left(\\theta{\\left(t \\right)} \\right)} \\frac{d}{d t} \\theta{\\left(t \\right)}\\right)}{2} - \\mu_{w} \\left(\\frac{d}{d t} \\phi{\\left(t \\right)} + \\frac{d}{d t} \\theta{\\left(t \\right)}\\right) + \\left(a + l \\cos{\\left(\\theta{\\left(t \\right)} \\right)}\\right) f_{d}{\\left(t \\right)}\\right)}{I_{p} + I_{w} + a^{2} m_{w} + \\frac{m_{p} \\left(2 l^{2} \\sin^{2}{\\left(\\theta{\\left(t \\right)} \\right)} + \\left(a + l \\cos{\\left(\\theta{\\left(t \\right)} \\right)}\\right) \\left(2 a + 2 l \\cos{\\left(\\theta{\\left(t \\right)} \\right)}\\right)\\right)}{2}} + \\tau{\\left(t \\right)}\\right)}{I_{w} + a^{2} m_{p} + a^{2} m_{w} - \\frac{\\left(I_{w} + a^{2} m_{w} + a m_{p} \\left(a + l \\cos{\\left(\\theta{\\left(t \\right)} \\right)}\\right)\\right) \\left(I_{w} + a^{2} m_{w} + \\frac{a m_{p} \\left(2 a + 2 l \\cos{\\left(\\theta{\\left(t \\right)} \\right)}\\right)}{2}\\right)}{I_{p} + I_{w} + a^{2} m_{w} + \\frac{m_{p} \\left(2 l^{2} \\sin^{2}{\\left(\\theta{\\left(t \\right)} \\right)} + \\left(a + l \\cos{\\left(\\theta{\\left(t \\right)} \\right)}\\right) \\left(2 a + 2 l \\cos{\\left(\\theta{\\left(t \\right)} \\right)}\\right)\\right)}{2}}}}{I_{p} + I_{w} + a^{2} m_{w} + \\frac{m_{p} \\left(2 l^{2} \\sin^{2}{\\left(\\theta{\\left(t \\right)} \\right)} + \\left(a + l \\cos{\\left(\\theta{\\left(t \\right)} \\right)}\\right) \\left(2 a + 2 l \\cos{\\left(\\theta{\\left(t \\right)} \\right)}\\right)\\right)}{2}}\\\\\\frac{a l m_{p} \\sin{\\left(\\theta{\\left(t \\right)} \\right)} \\left(\\frac{d}{d t} \\theta{\\left(t \\right)}\\right)^{2} + a f_{d}{\\left(t \\right)} - \\mu_{p} \\frac{d}{d t} \\phi{\\left(t \\right)} - \\mu_{w} \\left(\\frac{d}{d t} \\phi{\\left(t \\right)} + \\frac{d}{d t} \\theta{\\left(t \\right)}\\right) - \\frac{\\left(I_{w} + a^{2} m_{w} + a m_{p} \\left(a + l \\cos{\\left(\\theta{\\left(t \\right)} \\right)}\\right)\\right) \\left(g l m_{p} \\sin{\\left(\\theta{\\left(t \\right)} \\right)} + l f_{d}{\\left(t \\right)} \\cos{\\left(\\theta{\\left(t \\right)} \\right)} + \\frac{m_{p} \\left(2 l^{2} \\sin{\\left(\\theta{\\left(t \\right)} \\right)} \\cos{\\left(\\theta{\\left(t \\right)} \\right)} \\left(\\frac{d}{d t} \\theta{\\left(t \\right)}\\right)^{2} - 2 l \\left(a \\left(\\frac{d}{d t} \\phi{\\left(t \\right)} + \\frac{d}{d t} \\theta{\\left(t \\right)}\\right) + l \\cos{\\left(\\theta{\\left(t \\right)} \\right)} \\frac{d}{d t} \\theta{\\left(t \\right)}\\right) \\sin{\\left(\\theta{\\left(t \\right)} \\right)} \\frac{d}{d t} \\theta{\\left(t \\right)}\\right)}{2} - \\frac{m_{p} \\left(4 l^{2} \\sin{\\left(\\theta{\\left(t \\right)} \\right)} \\cos{\\left(\\theta{\\left(t \\right)} \\right)} \\left(\\frac{d}{d t} \\theta{\\left(t \\right)}\\right)^{2} - l \\left(2 a + 2 l \\cos{\\left(\\theta{\\left(t \\right)} \\right)}\\right) \\sin{\\left(\\theta{\\left(t \\right)} \\right)} \\left(\\frac{d}{d t} \\theta{\\left(t \\right)}\\right)^{2} - 2 l \\left(a \\left(\\frac{d}{d t} \\phi{\\left(t \\right)} + \\frac{d}{d t} \\theta{\\left(t \\right)}\\right) + l \\cos{\\left(\\theta{\\left(t \\right)} \\right)} \\frac{d}{d t} \\theta{\\left(t \\right)}\\right) \\sin{\\left(\\theta{\\left(t \\right)} \\right)} \\frac{d}{d t} \\theta{\\left(t \\right)}\\right)}{2} - \\mu_{w} \\left(\\frac{d}{d t} \\phi{\\left(t \\right)} + \\frac{d}{d t} \\theta{\\left(t \\right)}\\right) + \\left(a + l \\cos{\\left(\\theta{\\left(t \\right)} \\right)}\\right) f_{d}{\\left(t \\right)}\\right)}{I_{p} + I_{w} + a^{2} m_{w} + \\frac{m_{p} \\left(2 l^{2} \\sin^{2}{\\left(\\theta{\\left(t \\right)} \\right)} + \\left(a + l \\cos{\\left(\\theta{\\left(t \\right)} \\right)}\\right) \\left(2 a + 2 l \\cos{\\left(\\theta{\\left(t \\right)} \\right)}\\right)\\right)}{2}} + \\tau{\\left(t \\right)}}{I_{w} + a^{2} m_{p} + a^{2} m_{w} - \\frac{\\left(I_{w} + a^{2} m_{w} + a m_{p} \\left(a + l \\cos{\\left(\\theta{\\left(t \\right)} \\right)}\\right)\\right) \\left(I_{w} + a^{2} m_{w} + \\frac{a m_{p} \\left(2 a + 2 l \\cos{\\left(\\theta{\\left(t \\right)} \\right)}\\right)}{2}\\right)}{I_{p} + I_{w} + a^{2} m_{w} + \\frac{m_{p} \\left(2 l^{2} \\sin^{2}{\\left(\\theta{\\left(t \\right)} \\right)} + \\left(a + l \\cos{\\left(\\theta{\\left(t \\right)} \\right)}\\right) \\left(2 a + 2 l \\cos{\\left(\\theta{\\left(t \\right)} \\right)}\\right)\\right)}{2}}}\\end{matrix}\\right]$"
      ],
      "text/plain": [
       "Matrix([\n",
       "[                                                                                                                                                                                                                                                                                                                                                                                                                                                                                                                                                                                                                                                                                                                                                                                                                                                                                                                                                                                                                                                                                                                                                                                                                                                                                                                                                                                                                                                                                                                                                                                                                                                                                                                                                                                                                                                                                                                                                                                                                                Derivative(theta(t), t)],\n",
       "[                                                                                                                                                                                                                                                                                                                                                                                                                                                                                                                                                                                                                                                                                                                                                                                                                                                                                                                                                                                                                                                                                                                                                                                                                                                                                                                                                                                                                                                                                                                                                                                                                                                                                                                                                                                                                                                                                                                                                                                                                                  Derivative(phi(t), t)],\n",
       "[(g*l*m_p*sin(theta(t)) + l*f_d(t)*cos(theta(t)) + m_p*(2*l**2*sin(theta(t))*cos(theta(t))*Derivative(theta(t), t)**2 - 2*l*(a*(Derivative(phi(t), t) + Derivative(theta(t), t)) + l*cos(theta(t))*Derivative(theta(t), t))*sin(theta(t))*Derivative(theta(t), t))/2 - m_p*(4*l**2*sin(theta(t))*cos(theta(t))*Derivative(theta(t), t)**2 - l*(2*a + 2*l*cos(theta(t)))*sin(theta(t))*Derivative(theta(t), t)**2 - 2*l*(a*(Derivative(phi(t), t) + Derivative(theta(t), t)) + l*cos(theta(t))*Derivative(theta(t), t))*sin(theta(t))*Derivative(theta(t), t))/2 - mu_w*(Derivative(phi(t), t) + Derivative(theta(t), t)) + (a + l*cos(theta(t)))*f_d(t) - (I_w + a**2*m_w + a*m_p*(2*a + 2*l*cos(theta(t)))/2)*(a*l*m_p*sin(theta(t))*Derivative(theta(t), t)**2 + a*f_d(t) - mu_p*Derivative(phi(t), t) - mu_w*(Derivative(phi(t), t) + Derivative(theta(t), t)) - (I_w + a**2*m_w + a*m_p*(a + l*cos(theta(t))))*(g*l*m_p*sin(theta(t)) + l*f_d(t)*cos(theta(t)) + m_p*(2*l**2*sin(theta(t))*cos(theta(t))*Derivative(theta(t), t)**2 - 2*l*(a*(Derivative(phi(t), t) + Derivative(theta(t), t)) + l*cos(theta(t))*Derivative(theta(t), t))*sin(theta(t))*Derivative(theta(t), t))/2 - m_p*(4*l**2*sin(theta(t))*cos(theta(t))*Derivative(theta(t), t)**2 - l*(2*a + 2*l*cos(theta(t)))*sin(theta(t))*Derivative(theta(t), t)**2 - 2*l*(a*(Derivative(phi(t), t) + Derivative(theta(t), t)) + l*cos(theta(t))*Derivative(theta(t), t))*sin(theta(t))*Derivative(theta(t), t))/2 - mu_w*(Derivative(phi(t), t) + Derivative(theta(t), t)) + (a + l*cos(theta(t)))*f_d(t))/(I_p + I_w + a**2*m_w + m_p*(2*l**2*sin(theta(t))**2 + (a + l*cos(theta(t)))*(2*a + 2*l*cos(theta(t))))/2) + tau(t))/(I_w + a**2*m_p + a**2*m_w - (I_w + a**2*m_w + a*m_p*(a + l*cos(theta(t))))*(I_w + a**2*m_w + a*m_p*(2*a + 2*l*cos(theta(t)))/2)/(I_p + I_w + a**2*m_w + m_p*(2*l**2*sin(theta(t))**2 + (a + l*cos(theta(t)))*(2*a + 2*l*cos(theta(t))))/2)))/(I_p + I_w + a**2*m_w + m_p*(2*l**2*sin(theta(t))**2 + (a + l*cos(theta(t)))*(2*a + 2*l*cos(theta(t))))/2)],\n",
       "[                                                                                                                                                                                                                                                                                                                                                                                                                                                                                                                                                                                                                                                                                                                                                                                                                          (a*l*m_p*sin(theta(t))*Derivative(theta(t), t)**2 + a*f_d(t) - mu_p*Derivative(phi(t), t) - mu_w*(Derivative(phi(t), t) + Derivative(theta(t), t)) - (I_w + a**2*m_w + a*m_p*(a + l*cos(theta(t))))*(g*l*m_p*sin(theta(t)) + l*f_d(t)*cos(theta(t)) + m_p*(2*l**2*sin(theta(t))*cos(theta(t))*Derivative(theta(t), t)**2 - 2*l*(a*(Derivative(phi(t), t) + Derivative(theta(t), t)) + l*cos(theta(t))*Derivative(theta(t), t))*sin(theta(t))*Derivative(theta(t), t))/2 - m_p*(4*l**2*sin(theta(t))*cos(theta(t))*Derivative(theta(t), t)**2 - l*(2*a + 2*l*cos(theta(t)))*sin(theta(t))*Derivative(theta(t), t)**2 - 2*l*(a*(Derivative(phi(t), t) + Derivative(theta(t), t)) + l*cos(theta(t))*Derivative(theta(t), t))*sin(theta(t))*Derivative(theta(t), t))/2 - mu_w*(Derivative(phi(t), t) + Derivative(theta(t), t)) + (a + l*cos(theta(t)))*f_d(t))/(I_p + I_w + a**2*m_w + m_p*(2*l**2*sin(theta(t))**2 + (a + l*cos(theta(t)))*(2*a + 2*l*cos(theta(t))))/2) + tau(t))/(I_w + a**2*m_p + a**2*m_w - (I_w + a**2*m_w + a*m_p*(a + l*cos(theta(t))))*(I_w + a**2*m_w + a*m_p*(2*a + 2*l*cos(theta(t)))/2)/(I_p + I_w + a**2*m_w + m_p*(2*l**2*sin(theta(t))**2 + (a + l*cos(theta(t)))*(2*a + 2*l*cos(theta(t))))/2))]])"
      ]
     },
     "metadata": {},
     "output_type": "display_data"
    }
   ],
   "source": [
    "#状態方程式\n",
    "state_eqs=LM.rhs()\n",
    "display(state_eqs)"
   ]
  },
  {
   "cell_type": "markdown",
   "metadata": {},
   "source": [
    "## 最適レギュレータの設計"
   ]
  },
  {
   "cell_type": "code",
   "execution_count": 14,
   "metadata": {},
   "outputs": [],
   "source": [
    "LM_lqr=LagrangesMethod(L,q,forcelist=f_control,frame=N)\n",
    "eom_lqr=LM_lqr.form_lagranges_equations()"
   ]
  },
  {
   "cell_type": "markdown",
   "metadata": {},
   "source": [
    "状態方程式の線形化"
   ]
  },
  {
   "cell_type": "code",
   "execution_count": 15,
   "metadata": {},
   "outputs": [],
   "source": [
    "#動作点の設定\n",
    "op_point={theta:0,thetadot:0,phi:0,phidot:0}\n",
    "\n",
    "#線形化\n",
    "kwargs = {'q_ind': [theta, phi], 'qd_ind': [thetadot, phidot],'A_and_B': True, 'op_point': op_point, 'simplify': True}\n",
    "A, B, inp_vec = LM_lqr.linearize(**kwargs)"
   ]
  },
  {
   "cell_type": "code",
   "execution_count": 16,
   "metadata": {},
   "outputs": [
    {
     "data": {
      "text/latex": [
       "$\\displaystyle \\left[\\begin{matrix}0 & 0 & 1 & 0\\\\0 & 0 & 0 & 1\\\\\\frac{g l m_{p} \\left(I_{w} + a^{2} m_{p} + a^{2} m_{w}\\right)}{I_{p} I_{w} + I_{p} a^{2} m_{p} + I_{p} a^{2} m_{w} + I_{w} l^{2} m_{p} + a^{2} l^{2} m_{p} m_{w}} & 0 & 0 & 0\\\\\\frac{g l m_{p} \\left(- I_{w} - a^{2} m_{p} - a^{2} m_{w} - a l m_{p}\\right)}{I_{p} I_{w} + I_{p} a^{2} m_{p} + I_{p} a^{2} m_{w} + I_{w} l^{2} m_{p} + a^{2} l^{2} m_{p} m_{w}} & 0 & 0 & 0\\end{matrix}\\right]$"
      ],
      "text/plain": [
       "Matrix([\n",
       "[                                                                                                                        0, 0, 1, 0],\n",
       "[                                                                                                                        0, 0, 0, 1],\n",
       "[           g*l*m_p*(I_w + a**2*m_p + a**2*m_w)/(I_p*I_w + I_p*a**2*m_p + I_p*a**2*m_w + I_w*l**2*m_p + a**2*l**2*m_p*m_w), 0, 0, 0],\n",
       "[g*l*m_p*(-I_w - a**2*m_p - a**2*m_w - a*l*m_p)/(I_p*I_w + I_p*a**2*m_p + I_p*a**2*m_w + I_w*l**2*m_p + a**2*l**2*m_p*m_w), 0, 0, 0]])"
      ]
     },
     "metadata": {},
     "output_type": "display_data"
    },
    {
     "data": {
      "text/latex": [
       "$\\displaystyle \\left[\\begin{matrix}0\\\\0\\\\\\frac{- I_{w} - a^{2} m_{p} - a^{2} m_{w} - a l m_{p}}{I_{p} I_{w} + I_{p} a^{2} m_{p} + I_{p} a^{2} m_{w} + I_{w} l^{2} m_{p} + a^{2} l^{2} m_{p} m_{w}}\\\\\\frac{I_{p} + I_{w} + a^{2} m_{w} + m_{p} \\left(a + l\\right)^{2}}{\\left(I_{w} + a^{2} m_{p} + a^{2} m_{w}\\right) \\left(I_{p} + I_{w} + a^{2} m_{w} + m_{p} \\left(a + l\\right)^{2}\\right) - \\left(I_{w} + a^{2} m_{w} + a m_{p} \\left(a + l\\right)\\right)^{2}}\\end{matrix}\\right]$"
      ],
      "text/plain": [
       "Matrix([\n",
       "[                                                                                                                                                  0],\n",
       "[                                                                                                                                                  0],\n",
       "[                                  (-I_w - a**2*m_p - a**2*m_w - a*l*m_p)/(I_p*I_w + I_p*a**2*m_p + I_p*a**2*m_w + I_w*l**2*m_p + a**2*l**2*m_p*m_w)],\n",
       "[(I_p + I_w + a**2*m_w + m_p*(a + l)**2)/((I_w + a**2*m_p + a**2*m_w)*(I_p + I_w + a**2*m_w + m_p*(a + l)**2) - (I_w + a**2*m_w + a*m_p*(a + l))**2)]])"
      ]
     },
     "metadata": {},
     "output_type": "display_data"
    },
    {
     "data": {
      "text/latex": [
       "$\\displaystyle \\left[\\begin{matrix}\\tau{\\left(t \\right)}\\end{matrix}\\right]$"
      ],
      "text/plain": [
       "Matrix([[tau(t)]])"
      ]
     },
     "metadata": {},
     "output_type": "display_data"
    }
   ],
   "source": [
    "#行列の表示\n",
    "display(A)\n",
    "display(B)\n",
    "display(inp_vec)"
   ]
  },
  {
   "cell_type": "markdown",
   "metadata": {},
   "source": [
    "## 数値計算\n",
    "ここからは値を代入して計算していきます"
   ]
  },
  {
   "cell_type": "code",
   "execution_count": 17,
   "metadata": {},
   "outputs": [],
   "source": [
    "class Param:\n",
    "    def __init__(self):\n",
    "        self.a=0.15\n",
    "        self.l=0.50\n",
    "        self.m_p=0.5\n",
    "        self.m_w=0.2\n",
    "        self.I_p=self.m_p*self.m_p*self.l**2/3\n",
    "        self.I_w=self.m_w*self.m_w*self.a**2/2\n",
    "        self.g=9.8\n",
    "        self.mu_p=0\n",
    "        self.mu_w=0"
   ]
  },
  {
   "cell_type": "code",
   "execution_count": 18,
   "metadata": {},
   "outputs": [],
   "source": [
    "#数値計算用のパラメータ\n",
    "par=Param()"
   ]
  },
  {
   "cell_type": "markdown",
   "metadata": {},
   "source": [
    "最適レギュレータの設計"
   ]
  },
  {
   "cell_type": "code",
   "execution_count": 19,
   "metadata": {},
   "outputs": [],
   "source": [
    "#lqrの計算を行う関数\n",
    "def lqr(A, B, Q, R):\n",
    "    P = linalg.solve_continuous_are(A, B, Q, R)\n",
    "    K = linalg.inv(R).dot(B.T).dot(P)\n",
    "    E = linalg.eigvals(A - B.dot(K))\n",
    "\n",
    "    return P, K, E"
   ]
  },
  {
   "cell_type": "code",
   "execution_count": 104,
   "metadata": {},
   "outputs": [],
   "source": [
    "#Q,Rの設定\n",
    "Q=np.diag([10,0.5,1,1])\n",
    "R=np.diag([10])"
   ]
  },
  {
   "cell_type": "code",
   "execution_count": 105,
   "metadata": {},
   "outputs": [
    {
     "data": {
      "text/latex": [
       "$\\displaystyle \\left[\\begin{matrix}0 & 0 & 1 & 0\\\\0 & 0 & 0 & 1\\\\41.5058823529412 & 0 & 0 & 0\\\\-137.58431372549 & 0 & 0 & 0\\end{matrix}\\right]$"
      ],
      "text/plain": [
       "Matrix([\n",
       "[               0, 0, 1, 0],\n",
       "[               0, 0, 0, 1],\n",
       "[41.5058823529412, 0, 0, 0],\n",
       "[-137.58431372549, 0, 0, 0]])"
      ]
     },
     "metadata": {},
     "output_type": "display_data"
    },
    {
     "data": {
      "text/latex": [
       "$\\displaystyle \\left[\\begin{matrix}0\\\\0\\\\-56.156862745098\\\\247.877995642701\\end{matrix}\\right]$"
      ],
      "text/plain": [
       "Matrix([\n",
       "[               0],\n",
       "[               0],\n",
       "[-56.156862745098],\n",
       "[247.877995642701]])"
      ]
     },
     "metadata": {},
     "output_type": "display_data"
    }
   ],
   "source": [
    "#A,Bに数値を代入\n",
    "A_num=A.subs([(a,par.a),(l,par.l),(m_p,par.m_p),(m_w,par.m_w),(I_p,par.I_p),(I_w,par.I_w),(g,par.g),(mu_p,par.mu_p),(mu_w,par.mu_w),(theta.diff(t,2),0),(phi.diff(t,2),0)])\n",
    "\n",
    "B_num=B.subs([(a,par.a),(l,par.l),(m_p,par.m_p),(m_w,par.m_w),(I_p,par.I_p),(I_w,par.I_w),(g,par.g),(mu_p,par.mu_p),(mu_w,par.mu_w),(theta.diff(t,2),0),(phi.diff(t,2),0)])\n",
    "\n",
    "display(A_num)\n",
    "display(B_num)"
   ]
  },
  {
   "cell_type": "code",
   "execution_count": 106,
   "metadata": {},
   "outputs": [],
   "source": [
    "# A,B,Q,Rをarrayに変換\n",
    "A_np_a = np.asarray(A_num, dtype=float)\n",
    "B_np_a = np.asarray(B_num, dtype=float)\n",
    "Q_np_a = np.asarray(Q, dtype=float)\n",
    "R_np_a = np.asarray(R, dtype=float)"
   ]
  },
  {
   "cell_type": "markdown",
   "metadata": {},
   "source": [
    "フィードバックゲインKの計算"
   ]
  },
  {
   "cell_type": "code",
   "execution_count": 107,
   "metadata": {},
   "outputs": [
    {
     "data": {
      "text/plain": [
       "array([[-12.12134722,  -0.2236068 ,  -3.59393406,  -0.45996838]])"
      ]
     },
     "metadata": {},
     "output_type": "display_data"
    }
   ],
   "source": [
    "P_lqr, K_lqr, E_lqr = lqr(A_np_a, B_np_a, Q_np_a, R_np_a)\n",
    "\n",
    "display(K_lqr)"
   ]
  },
  {
   "cell_type": "markdown",
   "metadata": {},
   "source": [
    "トルクと外乱の関数定義"
   ]
  },
  {
   "cell_type": "code",
   "execution_count": 108,
   "metadata": {},
   "outputs": [],
   "source": [
    "#f_d_funcの定義\n",
    "def f_d_func(t,y):\n",
    "    if (t>1 and t<1.2):\n",
    "        return 2\n",
    "    else:\n",
    "        return 0\n",
    "\n",
    "#tau_funcの定義\n",
    "def tau_func(t,y):\n",
    "    return k_p*(y[0])+k_d*y[2]+10*y[1]\n",
    "\n",
    "def tau_func_lqr(y):\n",
    "    return (-K_lqr.dot(y))"
   ]
  },
  {
   "cell_type": "markdown",
   "metadata": {},
   "source": [
    "### 非線形状態方程式を関数化"
   ]
  },
  {
   "cell_type": "code",
   "execution_count": 109,
   "metadata": {},
   "outputs": [
    {
     "data": {
      "text/latex": [
       "$\\displaystyle \\left[\\begin{matrix}\\frac{d}{d t} \\theta{\\left(t \\right)}\\\\\\frac{d}{d t} \\phi{\\left(t \\right)}\\\\\\frac{\\left(0.5 \\cos{\\left(\\theta{\\left(t \\right)} \\right)} + 0.15\\right) f_{d}{\\left(t \\right)} + 0.125 \\cdot \\left(1.0 \\cos{\\left(\\theta{\\left(t \\right)} \\right)} + 0.3\\right) \\sin{\\left(\\theta{\\left(t \\right)} \\right)} \\left(\\frac{d}{d t} \\theta{\\left(t \\right)}\\right)^{2} + 0.5 f_{d}{\\left(t \\right)} \\cos{\\left(\\theta{\\left(t \\right)} \\right)} - 0.125 \\sin{\\left(\\theta{\\left(t \\right)} \\right)} \\cos{\\left(\\theta{\\left(t \\right)} \\right)} \\left(\\frac{d}{d t} \\theta{\\left(t \\right)}\\right)^{2} + 2.45 \\sin{\\left(\\theta{\\left(t \\right)} \\right)} - \\frac{\\left(0.0375 \\cos{\\left(\\theta{\\left(t \\right)} \\right)} + 0.0162\\right) \\left(- \\frac{\\left(0.0375 \\cos{\\left(\\theta{\\left(t \\right)} \\right)} + 0.0162\\right) \\left(\\left(0.5 \\cos{\\left(\\theta{\\left(t \\right)} \\right)} + 0.15\\right) f_{d}{\\left(t \\right)} + 0.125 \\cdot \\left(1.0 \\cos{\\left(\\theta{\\left(t \\right)} \\right)} + 0.3\\right) \\sin{\\left(\\theta{\\left(t \\right)} \\right)} \\left(\\frac{d}{d t} \\theta{\\left(t \\right)}\\right)^{2} + 0.5 f_{d}{\\left(t \\right)} \\cos{\\left(\\theta{\\left(t \\right)} \\right)} - 0.125 \\sin{\\left(\\theta{\\left(t \\right)} \\right)} \\cos{\\left(\\theta{\\left(t \\right)} \\right)} \\left(\\frac{d}{d t} \\theta{\\left(t \\right)}\\right)^{2} + 2.45 \\sin{\\left(\\theta{\\left(t \\right)} \\right)}\\right)}{0.25 \\cdot \\left(0.5 \\cos{\\left(\\theta{\\left(t \\right)} \\right)} + 0.15\\right) \\left(1.0 \\cos{\\left(\\theta{\\left(t \\right)} \\right)} + 0.3\\right) + 0.125 \\sin^{2}{\\left(\\theta{\\left(t \\right)} \\right)} + 0.0257833333333333} + 0.15 f_{d}{\\left(t \\right)} + \\tau{\\left(t \\right)} + 0.0375 \\sin{\\left(\\theta{\\left(t \\right)} \\right)} \\left(\\frac{d}{d t} \\theta{\\left(t \\right)}\\right)^{2}\\right)}{- \\frac{0.00140625 \\left(\\cos{\\left(\\theta{\\left(t \\right)} \\right)} + 0.432\\right)^{2}}{0.25 \\cdot \\left(0.5 \\cos{\\left(\\theta{\\left(t \\right)} \\right)} + 0.15\\right) \\left(1.0 \\cos{\\left(\\theta{\\left(t \\right)} \\right)} + 0.3\\right) + 0.125 \\sin^{2}{\\left(\\theta{\\left(t \\right)} \\right)} + 0.0257833333333333} + 0.0162}}{0.25 \\cdot \\left(0.5 \\cos{\\left(\\theta{\\left(t \\right)} \\right)} + 0.15\\right) \\left(1.0 \\cos{\\left(\\theta{\\left(t \\right)} \\right)} + 0.3\\right) + 0.125 \\sin^{2}{\\left(\\theta{\\left(t \\right)} \\right)} + 0.0257833333333333}\\\\\\frac{- \\frac{\\left(0.0375 \\cos{\\left(\\theta{\\left(t \\right)} \\right)} + 0.0162\\right) \\left(\\left(0.5 \\cos{\\left(\\theta{\\left(t \\right)} \\right)} + 0.15\\right) f_{d}{\\left(t \\right)} + 0.125 \\cdot \\left(1.0 \\cos{\\left(\\theta{\\left(t \\right)} \\right)} + 0.3\\right) \\sin{\\left(\\theta{\\left(t \\right)} \\right)} \\left(\\frac{d}{d t} \\theta{\\left(t \\right)}\\right)^{2} + 0.5 f_{d}{\\left(t \\right)} \\cos{\\left(\\theta{\\left(t \\right)} \\right)} - 0.125 \\sin{\\left(\\theta{\\left(t \\right)} \\right)} \\cos{\\left(\\theta{\\left(t \\right)} \\right)} \\left(\\frac{d}{d t} \\theta{\\left(t \\right)}\\right)^{2} + 2.45 \\sin{\\left(\\theta{\\left(t \\right)} \\right)}\\right)}{0.25 \\cdot \\left(0.5 \\cos{\\left(\\theta{\\left(t \\right)} \\right)} + 0.15\\right) \\left(1.0 \\cos{\\left(\\theta{\\left(t \\right)} \\right)} + 0.3\\right) + 0.125 \\sin^{2}{\\left(\\theta{\\left(t \\right)} \\right)} + 0.0257833333333333} + 0.15 f_{d}{\\left(t \\right)} + \\tau{\\left(t \\right)} + 0.0375 \\sin{\\left(\\theta{\\left(t \\right)} \\right)} \\left(\\frac{d}{d t} \\theta{\\left(t \\right)}\\right)^{2}}{- \\frac{0.00140625 \\left(\\cos{\\left(\\theta{\\left(t \\right)} \\right)} + 0.432\\right)^{2}}{0.25 \\cdot \\left(0.5 \\cos{\\left(\\theta{\\left(t \\right)} \\right)} + 0.15\\right) \\left(1.0 \\cos{\\left(\\theta{\\left(t \\right)} \\right)} + 0.3\\right) + 0.125 \\sin^{2}{\\left(\\theta{\\left(t \\right)} \\right)} + 0.0257833333333333} + 0.0162}\\end{matrix}\\right]$"
      ],
      "text/plain": [
       "Matrix([\n",
       "[                                                                                                                                                                                                                                                                                                                                                                                                                                                                                                                                                                                                                                                                                                                                                                                                                                                                                                                                                                  Derivative(theta(t), t)],\n",
       "[                                                                                                                                                                                                                                                                                                                                                                                                                                                                                                                                                                                                                                                                                                                                                                                                                                                                                                                                                                    Derivative(phi(t), t)],\n",
       "[((0.5*cos(theta(t)) + 0.15)*f_d(t) + 0.125*(1.0*cos(theta(t)) + 0.3)*sin(theta(t))*Derivative(theta(t), t)**2 + 0.5*f_d(t)*cos(theta(t)) - 0.125*sin(theta(t))*cos(theta(t))*Derivative(theta(t), t)**2 + 2.45*sin(theta(t)) - (0.0375*cos(theta(t)) + 0.0162)*(-(0.0375*cos(theta(t)) + 0.0162)*((0.5*cos(theta(t)) + 0.15)*f_d(t) + 0.125*(1.0*cos(theta(t)) + 0.3)*sin(theta(t))*Derivative(theta(t), t)**2 + 0.5*f_d(t)*cos(theta(t)) - 0.125*sin(theta(t))*cos(theta(t))*Derivative(theta(t), t)**2 + 2.45*sin(theta(t)))/(0.25*(0.5*cos(theta(t)) + 0.15)*(1.0*cos(theta(t)) + 0.3) + 0.125*sin(theta(t))**2 + 0.0257833333333333) + 0.15*f_d(t) + tau(t) + 0.0375*sin(theta(t))*Derivative(theta(t), t)**2)/(-0.00140625*(cos(theta(t)) + 0.432)**2/(0.25*(0.5*cos(theta(t)) + 0.15)*(1.0*cos(theta(t)) + 0.3) + 0.125*sin(theta(t))**2 + 0.0257833333333333) + 0.0162))/(0.25*(0.5*cos(theta(t)) + 0.15)*(1.0*cos(theta(t)) + 0.3) + 0.125*sin(theta(t))**2 + 0.0257833333333333)],\n",
       "[                                                                                                                                                                                                                                                                                                                                                                          (-(0.0375*cos(theta(t)) + 0.0162)*((0.5*cos(theta(t)) + 0.15)*f_d(t) + 0.125*(1.0*cos(theta(t)) + 0.3)*sin(theta(t))*Derivative(theta(t), t)**2 + 0.5*f_d(t)*cos(theta(t)) - 0.125*sin(theta(t))*cos(theta(t))*Derivative(theta(t), t)**2 + 2.45*sin(theta(t)))/(0.25*(0.5*cos(theta(t)) + 0.15)*(1.0*cos(theta(t)) + 0.3) + 0.125*sin(theta(t))**2 + 0.0257833333333333) + 0.15*f_d(t) + tau(t) + 0.0375*sin(theta(t))*Derivative(theta(t), t)**2)/(-0.00140625*(cos(theta(t)) + 0.432)**2/(0.25*(0.5*cos(theta(t)) + 0.15)*(1.0*cos(theta(t)) + 0.3) + 0.125*sin(theta(t))**2 + 0.0257833333333333) + 0.0162)]])"
      ]
     },
     "metadata": {},
     "output_type": "display_data"
    }
   ],
   "source": [
    "#numpy形式の関数に変換\n",
    "f_np=state_eqs.subs([(a,par.a),(l,par.l),(m_p,par.m_p),(m_w,par.m_w),(I_p,par.I_p),(I_w,par.I_w),(g,par.g),(mu_p,par.mu_p),(mu_w,par.mu_w)])\n",
    "display(f_np)\n",
    "f_np_nu=sp.lambdify([thetadot,phidot,theta,phi,f_d,tau],f_np,'numpy')"
   ]
  },
  {
   "cell_type": "code",
   "execution_count": 110,
   "metadata": {},
   "outputs": [],
   "source": [
    "#numpy形式の関数に変換\n",
    "def f_np_func(t,y):\n",
    "    ret=f_np_nu(y[2],y[3],y[0],y[1],f_d_func(t,y),tau_func_lqr(y))\n",
    "    #ret=f_np_nu(y[2],y[3],y[0],y[1],f_d_func(t),tau_func(t,y))\n",
    "    #return np.ravel(ret)\n",
    "    #fn_np_temp=f_np.subs([(thetadot,y[2]),(phidot,y[3]),(theta,y[0]),(phi,y[1]),(f_d,f_d_func(t)),(tau,tau_func(t,y))])\n",
    "    #return ret.flatten()\n",
    "    return ret.flatten()\n",
    "#classで書きたいよね, めっちゃきしょいし"
   ]
  },
  {
   "cell_type": "markdown",
   "metadata": {},
   "source": [
    "## 数値積分"
   ]
  },
  {
   "cell_type": "code",
   "execution_count": 111,
   "metadata": {},
   "outputs": [
    {
     "name": "stderr",
     "output_type": "stream",
     "text": [
      "<lambdifygenerated-7>:2: VisibleDeprecationWarning: Creating an ndarray from ragged nested sequences (which is a list-or-tuple of lists-or-tuples-or ndarrays with different lengths or shapes) is deprecated. If you meant to do this, you must specify 'dtype=object' when creating the ndarray.\n",
      "  return array([[_Dummy_145], [_Dummy_146], [(0.125*_Dummy_145**2*(1.0*cos(_Dummy_147) + 0.3)*sin(_Dummy_147) - 0.125*_Dummy_145**2*sin(_Dummy_147)*cos(_Dummy_147) + _Dummy_150*(0.5*cos(_Dummy_147) + 0.15) + 0.5*_Dummy_150*cos(_Dummy_147) + 2.45*sin(_Dummy_147) - (0.0375*cos(_Dummy_147) + 0.0162)*(0.0375*_Dummy_145**2*sin(_Dummy_147) + _Dummy_148 + 0.15*_Dummy_150 - (0.0375*cos(_Dummy_147) + 0.0162)*(0.125*_Dummy_145**2*(1.0*cos(_Dummy_147) + 0.3)*sin(_Dummy_147) - 0.125*_Dummy_145**2*sin(_Dummy_147)*cos(_Dummy_147) + _Dummy_150*(0.5*cos(_Dummy_147) + 0.15) + 0.5*_Dummy_150*cos(_Dummy_147) + 2.45*sin(_Dummy_147))/(0.25*(0.5*cos(_Dummy_147) + 0.15)*(1.0*cos(_Dummy_147) + 0.3) + 0.125*sin(_Dummy_147)**2 + 0.0257833333333333))/(-0.00140625*(cos(_Dummy_147) + 0.432)**2/(0.25*(0.5*cos(_Dummy_147) + 0.15)*(1.0*cos(_Dummy_147) + 0.3) + 0.125*sin(_Dummy_147)**2 + 0.0257833333333333) + 0.0162))/(0.25*(0.5*cos(_Dummy_147) + 0.15)*(1.0*cos(_Dummy_147) + 0.3) + 0.125*sin(_Dummy_147)**2 + 0.0257833333333333)], [(0.0375*_Dummy_145**2*sin(_Dummy_147) + _Dummy_148 + 0.15*_Dummy_150 - (0.0375*cos(_Dummy_147) + 0.0162)*(0.125*_Dummy_145**2*(1.0*cos(_Dummy_147) + 0.3)*sin(_Dummy_147) - 0.125*_Dummy_145**2*sin(_Dummy_147)*cos(_Dummy_147) + _Dummy_150*(0.5*cos(_Dummy_147) + 0.15) + 0.5*_Dummy_150*cos(_Dummy_147) + 2.45*sin(_Dummy_147))/(0.25*(0.5*cos(_Dummy_147) + 0.15)*(1.0*cos(_Dummy_147) + 0.3) + 0.125*sin(_Dummy_147)**2 + 0.0257833333333333))/(-0.00140625*(cos(_Dummy_147) + 0.432)**2/(0.25*(0.5*cos(_Dummy_147) + 0.15)*(1.0*cos(_Dummy_147) + 0.3) + 0.125*sin(_Dummy_147)**2 + 0.0257833333333333) + 0.0162)]])\n"
     ]
    }
   ],
   "source": [
    "#ゲインの設定\n",
    "k_p=1.0\n",
    "k_d=1.0\n",
    "\n",
    "#時間間隔の設定\n",
    "tdiv=100\n",
    "#時間の範囲の設定\n",
    "t_span=[0,5]\n",
    "#アニメーションのfps\n",
    "afps=tdiv/(t_span[1]-t_span[0])\n",
    "#初期値の設定\n",
    "#y0=[-theta_offset.subs([(l,par.l),(w,par.w)]),0,0.5,0]\n",
    "y0 =[-0.5, 0.0, -0.5, 0.0]\n",
    "\n",
    "#時間の離散化\n",
    "t_eval = np.linspace(*t_span,tdiv)\n",
    "\n",
    "#数値計算\n",
    "sol=solve_ivp(f_np_func,t_span,y0,method='RK45',t_eval=t_eval)\n"
   ]
  },
  {
   "cell_type": "code",
   "execution_count": 112,
   "metadata": {},
   "outputs": [
    {
     "data": {
      "text/plain": [
       "(100, 4)"
      ]
     },
     "execution_count": 112,
     "metadata": {},
     "output_type": "execute_result"
    }
   ],
   "source": [
    "y=sol.y.T\n",
    "np.shape(y)"
   ]
  },
  {
   "cell_type": "code",
   "execution_count": 113,
   "metadata": {},
   "outputs": [
    {
     "data": {
      "image/png": "[encoded data removed]",
      "text/plain": [
       "<Figure size 640x480 with 1 Axes>"
      ]
     },
     "metadata": {},
     "output_type": "display_data"
    }
   ],
   "source": [
    "#4つの値を重ねてプロット\n",
    "fig,ax=plt.subplots()\n",
    "ax.plot(t_eval,sol.y[0])\n",
    "ax.plot(t_eval,sol.y[1])\n",
    "ax.plot(t_eval,sol.y[2])\n",
    "ax.plot(t_eval,sol.y[3])\n",
    "#凡例を追加\n",
    "plt.legend(['theta','phi','thetadot','phidot'])\n",
    "plt.show()\n"
   ]
  },
  {
   "cell_type": "markdown",
   "metadata": {},
   "source": [
    "# アニメーションの作成"
   ]
  },
  {
   "cell_type": "code",
   "execution_count": 114,
   "metadata": {},
   "outputs": [],
   "source": [
    "#データの整理\n",
    "y[:,0]=sol.y[0]\n",
    "y[:,1]=sol.y[1]\n",
    "y[:,2]=sol.y[2]\n",
    "y[:,3]=sol.y[3]\n",
    "\n",
    "x_w=par.a*(y[:,0]+y[:,1])#車輪のx座標\n",
    "atheta=y[:,0]#振子の角度\n",
    "aphi=y[:,1]#車輪の角度"
   ]
  },
  {
   "cell_type": "code",
   "execution_count": 115,
   "metadata": {},
   "outputs": [
    {
     "data": {
      "image/png": "[encoded data removed]",
      "text/plain": [
       "<Figure size 640x480 with 1 Axes>"
      ]
     },
     "metadata": {},
     "output_type": "display_data"
    }
   ],
   "source": [
    "#車輪の描写\n",
    "#半径par.aの円を描写\n",
    "#座標は(x_w,par.a)\n",
    "fig, ax = plt.subplots()\n",
    "ax.set_aspect('equal')\n",
    "ax.set_xlim(-2, 2)\n",
    "ax.set_ylim(-0.1, 1)\n",
    "circle = plt.Circle((x_w[0], par.a), par.a, fill=False)\n",
    "ax.add_artist(circle)\n",
    "#車輪にしるしをつける\n",
    "line_w, = ax.plot([x_w[0], par.a], [x_w[0], 2*par.a])\n",
    "\n",
    "#振子の描写\n",
    "#振子の先端の座標は(x_w,par.a)\n",
    "#振子の中心の座標は(x_w+par.l*np.sin(atheta),par.a-par.l*np.cos(atheta))\n",
    "line, = ax.plot([x_w[0], x_w[0]+par.l*np.sin(atheta[0])], [par.a, par.a+par.l*np.cos(atheta[0])])\n",
    "line2,= ax.plot([x_w[0]+par.l*np.sin(atheta[0]),x_w[0]+par.l*np.sin(atheta[0])], [par.a+par.l*np.cos(atheta[0]),par.a+par.l*np.cos(atheta[0])])\n",
    "\n",
    "#アニメーションの関数\n",
    "def update(num):\n",
    "    #車輪を動かす\n",
    "    circle.center = (x_w[num], par.a)\n",
    "    line_w.set_xdata([x_w[num], x_w[num]+par.a*np.sin(atheta[num]+aphi[num])])\n",
    "    line_w.set_ydata([par.a, par.a*(1+np.cos(atheta[num]+aphi[num]))])\n",
    "    #振子を動かす\n",
    "    line.set_xdata([x_w[num], x_w[num]+par.l*np.sin(atheta[num])])\n",
    "    line.set_ydata([par.a, par.a+par.l*np.cos(atheta[num])])\n",
    "    line2.set_xdata([x_w[num]+par.l*np.sin(atheta[num]),x_w[num]+par.l*np.sin(atheta[num])])\n",
    "    line2.set_ydata([par.a+par.l*np.cos(atheta[num]),par.a+par.l*np.cos(atheta[num])])\n",
    "\n",
    "    return line , circle,line_w,line2\n",
    "\n",
    "ani = animation.FuncAnimation(fig, update, frames = len(t_eval), interval = (t_eval[1] - t_eval[0]) * 20 * 1000, blit = True)\n",
    "plt.show()\n",
    "ani.save('Simulation.gif', writer='pillow', fps=afps)\n"
   ]
  },
  {
   "cell_type": "code",
   "execution_count": null,
   "metadata": {},
   "outputs": [],
   "source": []
  }
 ],
 "metadata": {
  "kernelspec": {
   "display_name": "base",
   "language": "python",
   "name": "python3"
  },
  "language_info": {
   "codemirror_mode": {
    "name": "ipython",
    "version": 3
   },
   "file_extension": ".py",
   "mimetype": "text/x-python",
   "name": "python",
   "nbconvert_exporter": "python",
   "pygments_lexer": "ipython3",
   "version": "3.10.9"
  }
 },
 "nbformat": 4,
 "nbformat_minor": 2
}
